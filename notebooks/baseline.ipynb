{
 "cells": [
  {
   "cell_type": "code",
   "execution_count": 1,
   "metadata": {},
   "outputs": [],
   "source": [
    "%load_ext autoreload\n",
    "%autoreload 2"
   ]
  },
  {
   "cell_type": "code",
   "execution_count": 2,
   "metadata": {},
   "outputs": [],
   "source": [
    "import gym\n",
    "from gym import spaces\n",
    "import numpy as np\n",
    "import pandas as pd\n",
    "# add our custom modules\n",
    "import sys\n",
    "sys.path.append(\"../src\") # go to parent dir\n",
    "from microgrid_env import MicrogridEnv"
   ]
  },
  {
   "cell_type": "code",
   "execution_count": 10,
   "metadata": {},
   "outputs": [],
   "source": [
    "env_df = pd.read_csv(\"../data/cropped.csv\")\n",
    "# names consistent with `update_environment`\n",
    "env_df = env_df.rename(\n",
    "  columns={\"Wind Speed\": \"wind_speed\",\n",
    "           \"Solar Irradiance\": \"solar_irradiance\",\n",
    "           \"Grid Electricity Price\": \"rate_consumption_charge\"},\n",
    ")\n",
    "# compute total energy demand from example houses\n",
    "env_df[\"energy_demand\"] = env_df[\"warehouse 1\"] + env_df[\"small hotel 1\"]\n",
    "env_df = env_df.drop(columns=[\"warehouse 1\", \"small hotel 1\"])"
   ]
  },
  {
   "cell_type": "code",
   "execution_count": 17,
   "metadata": {},
   "outputs": [
    {
     "data": {
      "text/html": [
       "<div>\n",
       "<style scoped>\n",
       "    .dataframe tbody tr th:only-of-type {\n",
       "        vertical-align: middle;\n",
       "    }\n",
       "\n",
       "    .dataframe tbody tr th {\n",
       "        vertical-align: top;\n",
       "    }\n",
       "\n",
       "    .dataframe thead th {\n",
       "        text-align: right;\n",
       "    }\n",
       "</style>\n",
       "<table border=\"1\" class=\"dataframe\">\n",
       "  <thead>\n",
       "    <tr style=\"text-align: right;\">\n",
       "      <th></th>\n",
       "      <th>wind_speed</th>\n",
       "      <th>solar_irradiance</th>\n",
       "      <th>rate_consumption_charge</th>\n",
       "      <th>energy_demand</th>\n",
       "    </tr>\n",
       "  </thead>\n",
       "  <tbody>\n",
       "    <tr>\n",
       "      <th>0</th>\n",
       "      <td>45.900</td>\n",
       "      <td>0.1592</td>\n",
       "      <td>0.06</td>\n",
       "      <td>57.790509</td>\n",
       "    </tr>\n",
       "    <tr>\n",
       "      <th>1</th>\n",
       "      <td>46.872</td>\n",
       "      <td>0.0850</td>\n",
       "      <td>0.06</td>\n",
       "      <td>52.585363</td>\n",
       "    </tr>\n",
       "    <tr>\n",
       "      <th>2</th>\n",
       "      <td>47.340</td>\n",
       "      <td>0.0000</td>\n",
       "      <td>0.06</td>\n",
       "      <td>51.481020</td>\n",
       "    </tr>\n",
       "    <tr>\n",
       "      <th>3</th>\n",
       "      <td>40.608</td>\n",
       "      <td>0.0000</td>\n",
       "      <td>0.06</td>\n",
       "      <td>53.320262</td>\n",
       "    </tr>\n",
       "    <tr>\n",
       "      <th>4</th>\n",
       "      <td>42.732</td>\n",
       "      <td>0.0000</td>\n",
       "      <td>0.06</td>\n",
       "      <td>56.951506</td>\n",
       "    </tr>\n",
       "    <tr>\n",
       "      <th>...</th>\n",
       "      <td>...</td>\n",
       "      <td>...</td>\n",
       "      <td>...</td>\n",
       "      <td>...</td>\n",
       "    </tr>\n",
       "    <tr>\n",
       "      <th>4314</th>\n",
       "      <td>6.480</td>\n",
       "      <td>67.7188</td>\n",
       "      <td>0.19</td>\n",
       "      <td>150.229071</td>\n",
       "    </tr>\n",
       "    <tr>\n",
       "      <th>4315</th>\n",
       "      <td>9.036</td>\n",
       "      <td>0.9450</td>\n",
       "      <td>0.19</td>\n",
       "      <td>142.505024</td>\n",
       "    </tr>\n",
       "    <tr>\n",
       "      <th>4316</th>\n",
       "      <td>9.828</td>\n",
       "      <td>0.0695</td>\n",
       "      <td>0.06</td>\n",
       "      <td>111.824389</td>\n",
       "    </tr>\n",
       "    <tr>\n",
       "      <th>4317</th>\n",
       "      <td>2.592</td>\n",
       "      <td>0.1174</td>\n",
       "      <td>0.06</td>\n",
       "      <td>84.980106</td>\n",
       "    </tr>\n",
       "    <tr>\n",
       "      <th>4318</th>\n",
       "      <td>2.592</td>\n",
       "      <td>0.0857</td>\n",
       "      <td>0.06</td>\n",
       "      <td>75.745841</td>\n",
       "    </tr>\n",
       "  </tbody>\n",
       "</table>\n",
       "<p>4319 rows × 4 columns</p>\n",
       "</div>"
      ],
      "text/plain": [
       "      wind_speed  solar_irradiance  rate_consumption_charge  energy_demand\n",
       "0         45.900            0.1592                     0.06      57.790509\n",
       "1         46.872            0.0850                     0.06      52.585363\n",
       "2         47.340            0.0000                     0.06      51.481020\n",
       "3         40.608            0.0000                     0.06      53.320262\n",
       "4         42.732            0.0000                     0.06      56.951506\n",
       "...          ...               ...                      ...            ...\n",
       "4314       6.480           67.7188                     0.19     150.229071\n",
       "4315       9.036            0.9450                     0.19     142.505024\n",
       "4316       9.828            0.0695                     0.06     111.824389\n",
       "4317       2.592            0.1174                     0.06      84.980106\n",
       "4318       2.592            0.0857                     0.06      75.745841\n",
       "\n",
       "[4319 rows x 4 columns]"
      ]
     },
     "execution_count": 17,
     "metadata": {},
     "output_type": "execute_result"
    }
   ],
   "source": [
    "env_df"
   ]
  },
  {
   "cell_type": "code",
   "execution_count": 18,
   "metadata": {},
   "outputs": [],
   "source": [
    "data_dict = env_df.to_dict(orient=\"list\")"
   ]
  },
  {
   "cell_type": "code",
   "execution_count": 19,
   "metadata": {},
   "outputs": [],
   "source": [
    "env = MicrogridEnv(data_dict)"
   ]
  },
  {
   "cell_type": "code",
   "execution_count": 25,
   "metadata": {},
   "outputs": [],
   "source": [
    "env.action_space.seed(42)\n",
    "observation, info = env.reset(seed=42)\n",
    "\n",
    "for _ in range(10000):\n",
    "    action = env.action_space.sample() # TODO: this should probably come from our model\n",
    "    observation, reward, terminated, truncated, info = env.step(action)\n",
    "\n",
    "    if terminated or truncated:\n",
    "        observation, info = env.reset()\n",
    "\n",
    "env.close()"
   ]
  },
  {
   "cell_type": "code",
   "execution_count": null,
   "metadata": {},
   "outputs": [],
   "source": []
  }
 ],
 "metadata": {
  "kernelspec": {
   "display_name": "ai4ei",
   "language": "python",
   "name": "python3"
  },
  "language_info": {
   "codemirror_mode": {
    "name": "ipython",
    "version": 3
   },
   "file_extension": ".py",
   "mimetype": "text/x-python",
   "name": "python",
   "nbconvert_exporter": "python",
   "pygments_lexer": "ipython3",
   "version": "3.11.5"
  },
  "orig_nbformat": 4
 },
 "nbformat": 4,
 "nbformat_minor": 2
}
