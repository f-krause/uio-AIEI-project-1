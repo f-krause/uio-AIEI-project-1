{
 "cells": [
  {
   "cell_type": "code",
   "execution_count": 1,
   "metadata": {},
   "outputs": [],
   "source": [
    "%load_ext autoreload\n",
    "%autoreload 2"
   ]
  },
  {
   "cell_type": "code",
   "execution_count": 11,
   "metadata": {},
   "outputs": [],
   "source": [
    "import gym\n",
    "from gym import spaces\n",
    "import numpy as np\n",
    "import pandas as pd\n",
    "# add our custom modules\n",
    "import sys\n",
    "sys.path.append(\"../src\") # go to parent dir\n",
    "from microgrid_env import MicrogridEnv"
   ]
  },
  {
   "cell_type": "code",
   "execution_count": 13,
   "metadata": {},
   "outputs": [],
   "source": [
    "env_df = pd.read_csv(\"../data/cropped.csv\")"
   ]
  },
  {
   "cell_type": "code",
   "execution_count": 14,
   "metadata": {},
   "outputs": [
    {
     "data": {
      "text/html": [
       "<div>\n",
       "<style scoped>\n",
       "    .dataframe tbody tr th:only-of-type {\n",
       "        vertical-align: middle;\n",
       "    }\n",
       "\n",
       "    .dataframe tbody tr th {\n",
       "        vertical-align: top;\n",
       "    }\n",
       "\n",
       "    .dataframe thead th {\n",
       "        text-align: right;\n",
       "    }\n",
       "</style>\n",
       "<table border=\"1\" class=\"dataframe\">\n",
       "  <thead>\n",
       "    <tr style=\"text-align: right;\">\n",
       "      <th></th>\n",
       "      <th>Wind Speed</th>\n",
       "      <th>Solar Irradiance</th>\n",
       "      <th>Grid Electricity Price</th>\n",
       "      <th>warehouse 1</th>\n",
       "      <th>small hotel 1</th>\n",
       "    </tr>\n",
       "  </thead>\n",
       "  <tbody>\n",
       "    <tr>\n",
       "      <th>0</th>\n",
       "      <td>45.900</td>\n",
       "      <td>0.1592</td>\n",
       "      <td>0.06</td>\n",
       "      <td>16.696428</td>\n",
       "      <td>41.094081</td>\n",
       "    </tr>\n",
       "    <tr>\n",
       "      <th>1</th>\n",
       "      <td>46.872</td>\n",
       "      <td>0.0850</td>\n",
       "      <td>0.06</td>\n",
       "      <td>17.220737</td>\n",
       "      <td>35.364626</td>\n",
       "    </tr>\n",
       "    <tr>\n",
       "      <th>2</th>\n",
       "      <td>47.340</td>\n",
       "      <td>0.0000</td>\n",
       "      <td>0.06</td>\n",
       "      <td>16.837994</td>\n",
       "      <td>34.643026</td>\n",
       "    </tr>\n",
       "    <tr>\n",
       "      <th>3</th>\n",
       "      <td>40.608</td>\n",
       "      <td>0.0000</td>\n",
       "      <td>0.06</td>\n",
       "      <td>17.380582</td>\n",
       "      <td>35.939681</td>\n",
       "    </tr>\n",
       "    <tr>\n",
       "      <th>4</th>\n",
       "      <td>42.732</td>\n",
       "      <td>0.0000</td>\n",
       "      <td>0.06</td>\n",
       "      <td>16.934718</td>\n",
       "      <td>40.016787</td>\n",
       "    </tr>\n",
       "    <tr>\n",
       "      <th>...</th>\n",
       "      <td>...</td>\n",
       "      <td>...</td>\n",
       "      <td>...</td>\n",
       "      <td>...</td>\n",
       "      <td>...</td>\n",
       "    </tr>\n",
       "    <tr>\n",
       "      <th>4314</th>\n",
       "      <td>6.480</td>\n",
       "      <td>67.7188</td>\n",
       "      <td>0.19</td>\n",
       "      <td>15.415824</td>\n",
       "      <td>134.813247</td>\n",
       "    </tr>\n",
       "    <tr>\n",
       "      <th>4315</th>\n",
       "      <td>9.036</td>\n",
       "      <td>0.9450</td>\n",
       "      <td>0.19</td>\n",
       "      <td>15.415824</td>\n",
       "      <td>127.089200</td>\n",
       "    </tr>\n",
       "    <tr>\n",
       "      <th>4316</th>\n",
       "      <td>9.828</td>\n",
       "      <td>0.0695</td>\n",
       "      <td>0.06</td>\n",
       "      <td>15.415824</td>\n",
       "      <td>96.408565</td>\n",
       "    </tr>\n",
       "    <tr>\n",
       "      <th>4317</th>\n",
       "      <td>2.592</td>\n",
       "      <td>0.1174</td>\n",
       "      <td>0.06</td>\n",
       "      <td>15.415824</td>\n",
       "      <td>69.564282</td>\n",
       "    </tr>\n",
       "    <tr>\n",
       "      <th>4318</th>\n",
       "      <td>2.592</td>\n",
       "      <td>0.0857</td>\n",
       "      <td>0.06</td>\n",
       "      <td>15.415824</td>\n",
       "      <td>60.330017</td>\n",
       "    </tr>\n",
       "  </tbody>\n",
       "</table>\n",
       "<p>4319 rows × 5 columns</p>\n",
       "</div>"
      ],
      "text/plain": [
       "      Wind Speed  Solar Irradiance  ...  warehouse 1  small hotel 1\n",
       "0         45.900            0.1592  ...    16.696428      41.094081\n",
       "1         46.872            0.0850  ...    17.220737      35.364626\n",
       "2         47.340            0.0000  ...    16.837994      34.643026\n",
       "3         40.608            0.0000  ...    17.380582      35.939681\n",
       "4         42.732            0.0000  ...    16.934718      40.016787\n",
       "...          ...               ...  ...          ...            ...\n",
       "4314       6.480           67.7188  ...    15.415824     134.813247\n",
       "4315       9.036            0.9450  ...    15.415824     127.089200\n",
       "4316       9.828            0.0695  ...    15.415824      96.408565\n",
       "4317       2.592            0.1174  ...    15.415824      69.564282\n",
       "4318       2.592            0.0857  ...    15.415824      60.330017\n",
       "\n",
       "[4319 rows x 5 columns]"
      ]
     },
     "execution_count": 14,
     "metadata": {},
     "output_type": "execute_result"
    }
   ],
   "source": [
    "env_df"
   ]
  },
  {
   "cell_type": "code",
   "execution_count": 32,
   "metadata": {},
   "outputs": [],
   "source": [
    "env = MicrogridEnv(env_df)"
   ]
  },
  {
   "cell_type": "code",
   "execution_count": 35,
   "metadata": {},
   "outputs": [],
   "source": [
    "env.action_space.seed(42)\n",
    "observation, info = env.reset(seed=42)\n",
    "\n",
    "for _ in range(10000):\n",
    "    action = env.action_space.sample() # TODO: this should probably come from our model\n",
    "    observation, reward, terminated, truncated, info = env.step(action)\n",
    "\n",
    "    if terminated or truncated:\n",
    "        observation, info = env.reset()\n",
    "\n",
    "env.close()"
   ]
  },
  {
   "cell_type": "code",
   "execution_count": null,
   "metadata": {},
   "outputs": [],
   "source": []
  }
 ],
 "metadata": {
  "kernelspec": {
   "display_name": "ai4ei",
   "language": "python",
   "name": "python3"
  },
  "language_info": {
   "codemirror_mode": {
    "name": "ipython",
    "version": 3
   },
   "file_extension": ".py",
   "mimetype": "text/x-python",
   "name": "python",
   "nbconvert_exporter": "python",
   "pygments_lexer": "ipython3",
   "version": "3.11.5"
  },
  "orig_nbformat": 4
 },
 "nbformat": 4,
 "nbformat_minor": 2
}
