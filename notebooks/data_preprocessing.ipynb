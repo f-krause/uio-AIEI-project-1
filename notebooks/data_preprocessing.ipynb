{
 "cells": [
  {
   "cell_type": "code",
   "execution_count": 55,
   "metadata": {},
   "outputs": [],
   "source": [
    "import pandas as pd, tarfile"
   ]
  },
  {
   "cell_type": "markdown",
   "metadata": {},
   "source": [
    "Since the data is formatted in different ways, we create a file that unifies the environment data in this notebook.\n",
    "\n",
    "### 1. Skip first hour\n",
    "\n",
    "As illustrated below, the solar irradiance and rate consumption datasets starts at hour 1, not at 0, as other datasets do. Thus, we think that it makes sense to skip the first hour in all other datasets to start at the same time."
   ]
  },
  {
   "cell_type": "code",
   "execution_count": 56,
   "metadata": {},
   "outputs": [
    {
     "data": {
      "text/html": [
       "<div>\n",
       "<style scoped>\n",
       "    .dataframe tbody tr th:only-of-type {\n",
       "        vertical-align: middle;\n",
       "    }\n",
       "\n",
       "    .dataframe tbody tr th {\n",
       "        vertical-align: top;\n",
       "    }\n",
       "\n",
       "    .dataframe thead th {\n",
       "        text-align: right;\n",
       "    }\n",
       "</style>\n",
       "<table border=\"1\" class=\"dataframe\">\n",
       "  <thead>\n",
       "    <tr style=\"text-align: right;\">\n",
       "      <th></th>\n",
       "      <th>Year</th>\n",
       "      <th>HOUR-PST</th>\n",
       "      <th>Avg Global Horizontal [W/m^2]</th>\n",
       "    </tr>\n",
       "  </thead>\n",
       "  <tbody>\n",
       "    <tr>\n",
       "      <th>0</th>\n",
       "      <td>2016</td>\n",
       "      <td>1</td>\n",
       "      <td>0.1592</td>\n",
       "    </tr>\n",
       "    <tr>\n",
       "      <th>1</th>\n",
       "      <td>2016</td>\n",
       "      <td>2</td>\n",
       "      <td>0.0850</td>\n",
       "    </tr>\n",
       "  </tbody>\n",
       "</table>\n",
       "</div>"
      ],
      "text/plain": [
       "   Year  HOUR-PST  Avg Global Horizontal [W/m^2]\n",
       "0  2016         1                         0.1592\n",
       "1  2016         2                         0.0850"
      ]
     },
     "execution_count": 56,
     "metadata": {},
     "output_type": "execute_result"
    }
   ],
   "source": [
    "# This dataset (and rate consumption) starts at hour 1, ...\n",
    "solar_irradiance = pd.read_csv(\"../data/SolarIrradiance.csv\")[[\"Year\", \"HOUR-PST\", \"Avg Global Horizontal [W/m^2]\"]]\n",
    "solar_irradiance.head(2)"
   ]
  },
  {
   "cell_type": "code",
   "execution_count": 57,
   "metadata": {},
   "outputs": [
    {
     "data": {
      "text/html": [
       "<div>\n",
       "<style scoped>\n",
       "    .dataframe tbody tr th:only-of-type {\n",
       "        vertical-align: middle;\n",
       "    }\n",
       "\n",
       "    .dataframe tbody tr th {\n",
       "        vertical-align: top;\n",
       "    }\n",
       "\n",
       "    .dataframe thead th {\n",
       "        text-align: right;\n",
       "    }\n",
       "</style>\n",
       "<table border=\"1\" class=\"dataframe\">\n",
       "  <thead>\n",
       "    <tr style=\"text-align: right;\">\n",
       "      <th></th>\n",
       "      <th>Year</th>\n",
       "      <th>HOUR-PST</th>\n",
       "      <th>Avg Global Horizontal [W/m^2]</th>\n",
       "    </tr>\n",
       "  </thead>\n",
       "  <tbody>\n",
       "    <tr>\n",
       "      <th>22</th>\n",
       "      <td>2016</td>\n",
       "      <td>23</td>\n",
       "      <td>0.0742</td>\n",
       "    </tr>\n",
       "    <tr>\n",
       "      <th>23</th>\n",
       "      <td>2016</td>\n",
       "      <td>0</td>\n",
       "      <td>0.0417</td>\n",
       "    </tr>\n",
       "    <tr>\n",
       "      <th>24</th>\n",
       "      <td>2016</td>\n",
       "      <td>1</td>\n",
       "      <td>0.0000</td>\n",
       "    </tr>\n",
       "  </tbody>\n",
       "</table>\n",
       "</div>"
      ],
      "text/plain": [
       "    Year  HOUR-PST  Avg Global Horizontal [W/m^2]\n",
       "22  2016        23                         0.0742\n",
       "23  2016         0                         0.0417\n",
       "24  2016         1                         0.0000"
      ]
     },
     "execution_count": 57,
     "metadata": {},
     "output_type": "execute_result"
    }
   ],
   "source": [
    "# ... but has hour 0 somewhere appearing in the middle of it\n",
    "solar_irradiance.iloc[22:25]"
   ]
  },
  {
   "cell_type": "code",
   "execution_count": 58,
   "metadata": {},
   "outputs": [
    {
     "data": {
      "text/html": [
       "<div>\n",
       "<style scoped>\n",
       "    .dataframe tbody tr th:only-of-type {\n",
       "        vertical-align: middle;\n",
       "    }\n",
       "\n",
       "    .dataframe tbody tr th {\n",
       "        vertical-align: top;\n",
       "    }\n",
       "\n",
       "    .dataframe thead th {\n",
       "        text-align: right;\n",
       "    }\n",
       "</style>\n",
       "<table border=\"1\" class=\"dataframe\">\n",
       "  <thead>\n",
       "    <tr style=\"text-align: right;\">\n",
       "      <th></th>\n",
       "      <th>Year</th>\n",
       "      <th>Hour</th>\n",
       "      <th>Wind Speed</th>\n",
       "    </tr>\n",
       "  </thead>\n",
       "  <tbody>\n",
       "    <tr>\n",
       "      <th>0</th>\n",
       "      <td>2016.0</td>\n",
       "      <td>0.0</td>\n",
       "      <td>43.128</td>\n",
       "    </tr>\n",
       "    <tr>\n",
       "      <th>1</th>\n",
       "      <td>2016.0</td>\n",
       "      <td>1.0</td>\n",
       "      <td>45.900</td>\n",
       "    </tr>\n",
       "  </tbody>\n",
       "</table>\n",
       "</div>"
      ],
      "text/plain": [
       "     Year  Hour  Wind Speed  \n",
       "0  2016.0   0.0        43.128\n",
       "1  2016.0   1.0        45.900"
      ]
     },
     "execution_count": 58,
     "metadata": {},
     "output_type": "execute_result"
    }
   ],
   "source": [
    "# However, this dataset (and load data) start at hour 0, and ...\n",
    "wind_speed = pd.read_csv(\"../data/WindSpeed.csv\")[[\"Year\",\"Hour\",\"Wind Speed  \"]]\n",
    "wind_speed[\"Wind Speed  \"] = wind_speed[\"Wind Speed  \"].apply(lambda mps: 3.6 * mps) # convert m/s to km/h, like in the given loading code\n",
    "wind_speed.head(2)"
   ]
  },
  {
   "cell_type": "code",
   "execution_count": 59,
   "metadata": {},
   "outputs": [
    {
     "data": {
      "text/html": [
       "<div>\n",
       "<style scoped>\n",
       "    .dataframe tbody tr th:only-of-type {\n",
       "        vertical-align: middle;\n",
       "    }\n",
       "\n",
       "    .dataframe tbody tr th {\n",
       "        vertical-align: top;\n",
       "    }\n",
       "\n",
       "    .dataframe thead th {\n",
       "        text-align: right;\n",
       "    }\n",
       "</style>\n",
       "<table border=\"1\" class=\"dataframe\">\n",
       "  <thead>\n",
       "    <tr style=\"text-align: right;\">\n",
       "      <th></th>\n",
       "      <th>Year</th>\n",
       "      <th>Hour</th>\n",
       "      <th>Wind Speed</th>\n",
       "    </tr>\n",
       "  </thead>\n",
       "  <tbody>\n",
       "    <tr>\n",
       "      <th>23</th>\n",
       "      <td>2016.0</td>\n",
       "      <td>23.0</td>\n",
       "      <td>23.904</td>\n",
       "    </tr>\n",
       "    <tr>\n",
       "      <th>24</th>\n",
       "      <td>2016.0</td>\n",
       "      <td>0.0</td>\n",
       "      <td>18.432</td>\n",
       "    </tr>\n",
       "    <tr>\n",
       "      <th>25</th>\n",
       "      <td>2016.0</td>\n",
       "      <td>1.0</td>\n",
       "      <td>14.040</td>\n",
       "    </tr>\n",
       "  </tbody>\n",
       "</table>\n",
       "</div>"
      ],
      "text/plain": [
       "      Year  Hour  Wind Speed  \n",
       "23  2016.0  23.0        23.904\n",
       "24  2016.0   0.0        18.432\n",
       "25  2016.0   1.0        14.040"
      ]
     },
     "execution_count": 59,
     "metadata": {},
     "output_type": "execute_result"
    }
   ],
   "source": [
    "# also contain an hour 0 for following days.\n",
    "wind_speed.iloc[23:26]"
   ]
  },
  {
   "cell_type": "markdown",
   "metadata": {},
   "source": [
    "Therefore, we skip the first line in all datasets other than the solar irradiance datasets."
   ]
  },
  {
   "cell_type": "code",
   "execution_count": 60,
   "metadata": {},
   "outputs": [
    {
     "data": {
      "text/html": [
       "<div>\n",
       "<style scoped>\n",
       "    .dataframe tbody tr th:only-of-type {\n",
       "        vertical-align: middle;\n",
       "    }\n",
       "\n",
       "    .dataframe tbody tr th {\n",
       "        vertical-align: top;\n",
       "    }\n",
       "\n",
       "    .dataframe thead th {\n",
       "        text-align: right;\n",
       "    }\n",
       "</style>\n",
       "<table border=\"1\" class=\"dataframe\">\n",
       "  <thead>\n",
       "    <tr style=\"text-align: right;\">\n",
       "      <th></th>\n",
       "      <th>Year</th>\n",
       "      <th>HOUR-PST</th>\n",
       "      <th>Grid Electricity Price</th>\n",
       "    </tr>\n",
       "  </thead>\n",
       "  <tbody>\n",
       "    <tr>\n",
       "      <th>0</th>\n",
       "      <td>2016</td>\n",
       "      <td>1</td>\n",
       "      <td>0.06</td>\n",
       "    </tr>\n",
       "    <tr>\n",
       "      <th>1</th>\n",
       "      <td>2016</td>\n",
       "      <td>2</td>\n",
       "      <td>0.06</td>\n",
       "    </tr>\n",
       "    <tr>\n",
       "      <th>2</th>\n",
       "      <td>2016</td>\n",
       "      <td>3</td>\n",
       "      <td>0.06</td>\n",
       "    </tr>\n",
       "    <tr>\n",
       "      <th>3</th>\n",
       "      <td>2016</td>\n",
       "      <td>4</td>\n",
       "      <td>0.06</td>\n",
       "    </tr>\n",
       "    <tr>\n",
       "      <th>4</th>\n",
       "      <td>2016</td>\n",
       "      <td>5</td>\n",
       "      <td>0.06</td>\n",
       "    </tr>\n",
       "  </tbody>\n",
       "</table>\n",
       "</div>"
      ],
      "text/plain": [
       "   Year  HOUR-PST  Grid Electricity Price\n",
       "0  2016         1                    0.06\n",
       "1  2016         2                    0.06\n",
       "2  2016         3                    0.06\n",
       "3  2016         4                    0.06\n",
       "4  2016         5                    0.06"
      ]
     },
     "execution_count": 60,
     "metadata": {},
     "output_type": "execute_result"
    }
   ],
   "source": [
    "rate_cons = pd.read_csv(\"../data/rate_consumption_charge.csv\")[['Year', 'HOUR-PST', 'Grid Elecricity Price锛?/kWh锛?2016',]]\n",
    "rate_cons = rate_cons.rename(columns={'Grid Elecricity Price锛?/kWh锛?2016': \"Grid Electricity Price\"})\n",
    "rate_cons.head(5)"
   ]
  },
  {
   "cell_type": "code",
   "execution_count": 61,
   "metadata": {},
   "outputs": [],
   "source": [
    "households = {}\n",
    "with tarfile.open(\"../data/COMMERCIAL_LOAD_DATA_E_PLUS_OUTPUT.part1.tar.gz\") as tf:\n",
    "    for name, archive_path in [\n",
    "        (\"warehouse 1\", \"USA_CA_Palmdale.AP.723820_TMY3/RefBldgWarehouseNew2004_7.1_5.0_3B_USA_CA_LOS_ANGELES.csv\"),\n",
    "        (\"small hotel 1\", \"USA_AR_Little.Rock.AFB.723405_TMY3/RefBldgSmallHotelNew2004_v1.3_7.1_3A_USA_GA_ATLANTA.csv\"),\n",
    "    ]:\n",
    "        file = tf.extractfile(archive_path)\n",
    "        households[name] = pd.read_csv(file)[['Date/Time', 'Electricity:Facility [kW](Hourly)']]"
   ]
  },
  {
   "cell_type": "code",
   "execution_count": 62,
   "metadata": {},
   "outputs": [
    {
     "data": {
      "text/html": [
       "<div>\n",
       "<style scoped>\n",
       "    .dataframe tbody tr th:only-of-type {\n",
       "        vertical-align: middle;\n",
       "    }\n",
       "\n",
       "    .dataframe tbody tr th {\n",
       "        vertical-align: top;\n",
       "    }\n",
       "\n",
       "    .dataframe thead th {\n",
       "        text-align: right;\n",
       "    }\n",
       "</style>\n",
       "<table border=\"1\" class=\"dataframe\">\n",
       "  <thead>\n",
       "    <tr style=\"text-align: right;\">\n",
       "      <th></th>\n",
       "      <th>Date/Time</th>\n",
       "      <th>Electricity:Facility [kW](Hourly)</th>\n",
       "    </tr>\n",
       "  </thead>\n",
       "  <tbody>\n",
       "    <tr>\n",
       "      <th>0</th>\n",
       "      <td>01/01  01:00:00</td>\n",
       "      <td>16.895495</td>\n",
       "    </tr>\n",
       "    <tr>\n",
       "      <th>1</th>\n",
       "      <td>01/01  02:00:00</td>\n",
       "      <td>16.696428</td>\n",
       "    </tr>\n",
       "    <tr>\n",
       "      <th>2</th>\n",
       "      <td>01/01  03:00:00</td>\n",
       "      <td>17.220737</td>\n",
       "    </tr>\n",
       "  </tbody>\n",
       "</table>\n",
       "</div>"
      ],
      "text/plain": [
       "          Date/Time  Electricity:Facility [kW](Hourly)\n",
       "0   01/01  01:00:00                          16.895495\n",
       "1   01/01  02:00:00                          16.696428\n",
       "2   01/01  03:00:00                          17.220737"
      ]
     },
     "execution_count": 62,
     "metadata": {},
     "output_type": "execute_result"
    }
   ],
   "source": [
    "households[\"warehouse 1\"].head(3)"
   ]
  },
  {
   "cell_type": "code",
   "execution_count": 63,
   "metadata": {},
   "outputs": [
    {
     "data": {
      "text/html": [
       "<div>\n",
       "<style scoped>\n",
       "    .dataframe tbody tr th:only-of-type {\n",
       "        vertical-align: middle;\n",
       "    }\n",
       "\n",
       "    .dataframe tbody tr th {\n",
       "        vertical-align: top;\n",
       "    }\n",
       "\n",
       "    .dataframe thead th {\n",
       "        text-align: right;\n",
       "    }\n",
       "</style>\n",
       "<table border=\"1\" class=\"dataframe\">\n",
       "  <thead>\n",
       "    <tr style=\"text-align: right;\">\n",
       "      <th></th>\n",
       "      <th>Date/Time</th>\n",
       "      <th>Electricity:Facility [kW](Hourly)</th>\n",
       "    </tr>\n",
       "  </thead>\n",
       "  <tbody>\n",
       "    <tr>\n",
       "      <th>0</th>\n",
       "      <td>01/01  01:00:00</td>\n",
       "      <td>41.874827</td>\n",
       "    </tr>\n",
       "    <tr>\n",
       "      <th>1</th>\n",
       "      <td>01/01  02:00:00</td>\n",
       "      <td>41.094081</td>\n",
       "    </tr>\n",
       "    <tr>\n",
       "      <th>2</th>\n",
       "      <td>01/01  03:00:00</td>\n",
       "      <td>35.364626</td>\n",
       "    </tr>\n",
       "  </tbody>\n",
       "</table>\n",
       "</div>"
      ],
      "text/plain": [
       "          Date/Time  Electricity:Facility [kW](Hourly)\n",
       "0   01/01  01:00:00                          41.874827\n",
       "1   01/01  02:00:00                          41.094081\n",
       "2   01/01  03:00:00                          35.364626"
      ]
     },
     "execution_count": 63,
     "metadata": {},
     "output_type": "execute_result"
    }
   ],
   "source": [
    "households[\"small hotel 1\"].head(3)"
   ]
  },
  {
   "cell_type": "code",
   "execution_count": 64,
   "metadata": {},
   "outputs": [],
   "source": [
    "# skip the first hour in every dataset except solar_irradiance such that they fit each other and the beginnings are synced\n",
    "wind_speed = wind_speed.iloc[1:].reset_index(drop=True)\n",
    "households = {name: household.iloc[1:].reset_index(drop=True) for name, household in households.items()}"
   ]
  },
  {
   "cell_type": "markdown",
   "metadata": {},
   "source": [
    "\n",
    "### 2. Cap data\n",
    "\n",
    "Furthermore, the different datasets are of different lengths. Therefore, we pick the length of the shortest dataset to have features of equal lengths.\n",
    "\n",
    "Note that there is only data for half a year available for most datasets, whereas for the load data we have a full year available."
   ]
  },
  {
   "cell_type": "code",
   "execution_count": 65,
   "metadata": {},
   "outputs": [
    {
     "data": {
      "text/html": [
       "<div>\n",
       "<style scoped>\n",
       "    .dataframe tbody tr th:only-of-type {\n",
       "        vertical-align: middle;\n",
       "    }\n",
       "\n",
       "    .dataframe tbody tr th {\n",
       "        vertical-align: top;\n",
       "    }\n",
       "\n",
       "    .dataframe thead th {\n",
       "        text-align: right;\n",
       "    }\n",
       "</style>\n",
       "<table border=\"1\" class=\"dataframe\">\n",
       "  <thead>\n",
       "    <tr style=\"text-align: right;\">\n",
       "      <th></th>\n",
       "      <th>Year</th>\n",
       "      <th>HOUR-PST</th>\n",
       "      <th>Grid Electricity Price</th>\n",
       "    </tr>\n",
       "  </thead>\n",
       "  <tbody>\n",
       "    <tr>\n",
       "      <th>0</th>\n",
       "      <td>2016</td>\n",
       "      <td>1</td>\n",
       "      <td>0.06</td>\n",
       "    </tr>\n",
       "    <tr>\n",
       "      <th>1</th>\n",
       "      <td>2016</td>\n",
       "      <td>2</td>\n",
       "      <td>0.06</td>\n",
       "    </tr>\n",
       "    <tr>\n",
       "      <th>2</th>\n",
       "      <td>2016</td>\n",
       "      <td>3</td>\n",
       "      <td>0.06</td>\n",
       "    </tr>\n",
       "    <tr>\n",
       "      <th>3</th>\n",
       "      <td>2016</td>\n",
       "      <td>4</td>\n",
       "      <td>0.06</td>\n",
       "    </tr>\n",
       "    <tr>\n",
       "      <th>4</th>\n",
       "      <td>2016</td>\n",
       "      <td>5</td>\n",
       "      <td>0.06</td>\n",
       "    </tr>\n",
       "  </tbody>\n",
       "</table>\n",
       "</div>"
      ],
      "text/plain": [
       "   Year  HOUR-PST  Grid Electricity Price\n",
       "0  2016         1                    0.06\n",
       "1  2016         2                    0.06\n",
       "2  2016         3                    0.06\n",
       "3  2016         4                    0.06\n",
       "4  2016         5                    0.06"
      ]
     },
     "execution_count": 65,
     "metadata": {},
     "output_type": "execute_result"
    }
   ],
   "source": [
    "rate_cons.head(5)"
   ]
  },
  {
   "cell_type": "code",
   "execution_count": 67,
   "metadata": {},
   "outputs": [
    {
     "data": {
      "text/plain": [
       "(4321, 4319, 4319, 8759, 8759)"
      ]
     },
     "execution_count": 67,
     "metadata": {},
     "output_type": "execute_result"
    }
   ],
   "source": [
    "dataset_lengths = (len(wind_speed), len(solar_irradiance), len(rate_cons), *[len(households[name]) for name in households])\n",
    "dataset_lengths"
   ]
  },
  {
   "cell_type": "code",
   "execution_count": 68,
   "metadata": {},
   "outputs": [
    {
     "data": {
      "text/plain": [
       "4319"
      ]
     },
     "execution_count": 68,
     "metadata": {},
     "output_type": "execute_result"
    }
   ],
   "source": [
    "min_length = min(dataset_lengths); min_length"
   ]
  },
  {
   "cell_type": "code",
   "execution_count": 69,
   "metadata": {},
   "outputs": [],
   "source": [
    "wind_speed = wind_speed.iloc[:min_length]\n",
    "solar_irradiance = solar_irradiance.iloc[:min_length]\n",
    "rate_cons = rate_cons.iloc[:min_length]\n",
    "households = {name: household.iloc[:min_length] for name, household in households.items()}"
   ]
  },
  {
   "cell_type": "code",
   "execution_count": 70,
   "metadata": {},
   "outputs": [
    {
     "data": {
      "text/plain": [
       "(4319, 4319, 4319, 4319, 4319)"
      ]
     },
     "execution_count": 70,
     "metadata": {},
     "output_type": "execute_result"
    }
   ],
   "source": [
    "len(wind_speed), len(solar_irradiance), len(rate_cons), *[len(household) for household in households.values()]"
   ]
  },
  {
   "cell_type": "markdown",
   "metadata": {},
   "source": [
    "### Export"
   ]
  },
  {
   "cell_type": "code",
   "execution_count": 79,
   "metadata": {},
   "outputs": [
    {
     "data": {
      "text/html": [
       "<div>\n",
       "<style scoped>\n",
       "    .dataframe tbody tr th:only-of-type {\n",
       "        vertical-align: middle;\n",
       "    }\n",
       "\n",
       "    .dataframe tbody tr th {\n",
       "        vertical-align: top;\n",
       "    }\n",
       "\n",
       "    .dataframe thead th {\n",
       "        text-align: right;\n",
       "    }\n",
       "</style>\n",
       "<table border=\"1\" class=\"dataframe\">\n",
       "  <thead>\n",
       "    <tr style=\"text-align: right;\">\n",
       "      <th></th>\n",
       "      <th>Wind Speed</th>\n",
       "      <th>Solar Irradiance</th>\n",
       "      <th>Grid Electricity Price</th>\n",
       "      <th>warehouse 1</th>\n",
       "      <th>small hotel 1</th>\n",
       "    </tr>\n",
       "  </thead>\n",
       "  <tbody>\n",
       "    <tr>\n",
       "      <th>0</th>\n",
       "      <td>45.900</td>\n",
       "      <td>0.1592</td>\n",
       "      <td>0.06</td>\n",
       "      <td>16.696428</td>\n",
       "      <td>41.094081</td>\n",
       "    </tr>\n",
       "    <tr>\n",
       "      <th>1</th>\n",
       "      <td>46.872</td>\n",
       "      <td>0.0850</td>\n",
       "      <td>0.06</td>\n",
       "      <td>17.220737</td>\n",
       "      <td>35.364626</td>\n",
       "    </tr>\n",
       "    <tr>\n",
       "      <th>2</th>\n",
       "      <td>47.340</td>\n",
       "      <td>0.0000</td>\n",
       "      <td>0.06</td>\n",
       "      <td>16.837994</td>\n",
       "      <td>34.643026</td>\n",
       "    </tr>\n",
       "    <tr>\n",
       "      <th>3</th>\n",
       "      <td>40.608</td>\n",
       "      <td>0.0000</td>\n",
       "      <td>0.06</td>\n",
       "      <td>17.380582</td>\n",
       "      <td>35.939681</td>\n",
       "    </tr>\n",
       "    <tr>\n",
       "      <th>4</th>\n",
       "      <td>42.732</td>\n",
       "      <td>0.0000</td>\n",
       "      <td>0.06</td>\n",
       "      <td>16.934718</td>\n",
       "      <td>40.016787</td>\n",
       "    </tr>\n",
       "    <tr>\n",
       "      <th>...</th>\n",
       "      <td>...</td>\n",
       "      <td>...</td>\n",
       "      <td>...</td>\n",
       "      <td>...</td>\n",
       "      <td>...</td>\n",
       "    </tr>\n",
       "    <tr>\n",
       "      <th>4314</th>\n",
       "      <td>6.480</td>\n",
       "      <td>67.7188</td>\n",
       "      <td>0.19</td>\n",
       "      <td>15.415824</td>\n",
       "      <td>134.813247</td>\n",
       "    </tr>\n",
       "    <tr>\n",
       "      <th>4315</th>\n",
       "      <td>9.036</td>\n",
       "      <td>0.9450</td>\n",
       "      <td>0.19</td>\n",
       "      <td>15.415824</td>\n",
       "      <td>127.089200</td>\n",
       "    </tr>\n",
       "    <tr>\n",
       "      <th>4316</th>\n",
       "      <td>9.828</td>\n",
       "      <td>0.0695</td>\n",
       "      <td>0.06</td>\n",
       "      <td>15.415824</td>\n",
       "      <td>96.408565</td>\n",
       "    </tr>\n",
       "    <tr>\n",
       "      <th>4317</th>\n",
       "      <td>2.592</td>\n",
       "      <td>0.1174</td>\n",
       "      <td>0.06</td>\n",
       "      <td>15.415824</td>\n",
       "      <td>69.564282</td>\n",
       "    </tr>\n",
       "    <tr>\n",
       "      <th>4318</th>\n",
       "      <td>2.592</td>\n",
       "      <td>0.0857</td>\n",
       "      <td>0.06</td>\n",
       "      <td>15.415824</td>\n",
       "      <td>60.330017</td>\n",
       "    </tr>\n",
       "  </tbody>\n",
       "</table>\n",
       "<p>4319 rows × 5 columns</p>\n",
       "</div>"
      ],
      "text/plain": [
       "      Wind Speed  Solar Irradiance  Grid Electricity Price  warehouse 1  \\\n",
       "0         45.900            0.1592                    0.06    16.696428   \n",
       "1         46.872            0.0850                    0.06    17.220737   \n",
       "2         47.340            0.0000                    0.06    16.837994   \n",
       "3         40.608            0.0000                    0.06    17.380582   \n",
       "4         42.732            0.0000                    0.06    16.934718   \n",
       "...          ...               ...                     ...          ...   \n",
       "4314       6.480           67.7188                    0.19    15.415824   \n",
       "4315       9.036            0.9450                    0.19    15.415824   \n",
       "4316       9.828            0.0695                    0.06    15.415824   \n",
       "4317       2.592            0.1174                    0.06    15.415824   \n",
       "4318       2.592            0.0857                    0.06    15.415824   \n",
       "\n",
       "      small hotel 1  \n",
       "0         41.094081  \n",
       "1         35.364626  \n",
       "2         34.643026  \n",
       "3         35.939681  \n",
       "4         40.016787  \n",
       "...             ...  \n",
       "4314     134.813247  \n",
       "4315     127.089200  \n",
       "4316      96.408565  \n",
       "4317      69.564282  \n",
       "4318      60.330017  \n",
       "\n",
       "[4319 rows x 5 columns]"
      ]
     },
     "execution_count": 79,
     "metadata": {},
     "output_type": "execute_result"
    }
   ],
   "source": [
    "df = pd.DataFrame({\n",
    "  \"Wind Speed\": wind_speed[\"Wind Speed  \"],\n",
    "  \"Solar Irradiance\": solar_irradiance[\"Avg Global Horizontal [W/m^2]\"],\n",
    "  \"Grid Electricity Price\": rate_cons[\"Grid Electricity Price\"],\n",
    "  **{name: household[\"Electricity:Facility [kW](Hourly)\"] for name, household in households.items()},\n",
    "});\n",
    "df"
   ]
  },
  {
   "cell_type": "code",
   "execution_count": 80,
   "metadata": {},
   "outputs": [],
   "source": [
    "df.to_csv(\"../data/cropped.csv\", index=False)"
   ]
  },
  {
   "cell_type": "code",
   "execution_count": null,
   "metadata": {},
   "outputs": [],
   "source": []
  }
 ],
 "metadata": {
  "kernelspec": {
   "display_name": "ai4ei",
   "language": "python",
   "name": "python3"
  },
  "language_info": {
   "codemirror_mode": {
    "name": "ipython",
    "version": 3
   },
   "file_extension": ".py",
   "mimetype": "text/x-python",
   "name": "python",
   "nbconvert_exporter": "python",
   "pygments_lexer": "ipython3",
   "version": "3.11.5"
  },
  "orig_nbformat": 4
 },
 "nbformat": 4,
 "nbformat_minor": 2
}
