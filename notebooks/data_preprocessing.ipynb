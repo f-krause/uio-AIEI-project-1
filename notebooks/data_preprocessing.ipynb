{
 "cells": [
  {
   "cell_type": "code",
   "execution_count": 1,
   "metadata": {
    "ExecuteTime": {
     "end_time": "2023-10-10T12:35:53.615098600Z",
     "start_time": "2023-10-10T12:35:52.723040900Z"
    }
   },
   "outputs": [],
   "source": [
    "import pandas as pd, tarfile"
   ]
  },
  {
   "cell_type": "markdown",
   "metadata": {},
   "source": [
    "Since the data is formatted in different ways, we create a file that unifies the environment data in this notebook.\n",
    "\n",
    "### 1. Skip first hour\n",
    "\n",
    "As illustrated below, the solar irradiance and rate consumption datasets starts at hour 1, not at 0, as other datasets do. Thus, we think that it makes sense to skip the first hour in all other datasets to start at the same time."
   ]
  },
  {
   "cell_type": "code",
   "execution_count": 2,
   "metadata": {
    "ExecuteTime": {
     "end_time": "2023-10-10T12:35:53.693511300Z",
     "start_time": "2023-10-10T12:35:53.617505100Z"
    }
   },
   "outputs": [
    {
     "data": {
      "text/plain": "   Year  HOUR-PST  Avg Global Horizontal [W/m^2]\n0  2016         0                         0.1291\n1  2016         1                         0.1592",
      "text/html": "<div>\n<style scoped>\n    .dataframe tbody tr th:only-of-type {\n        vertical-align: middle;\n    }\n\n    .dataframe tbody tr th {\n        vertical-align: top;\n    }\n\n    .dataframe thead th {\n        text-align: right;\n    }\n</style>\n<table border=\"1\" class=\"dataframe\">\n  <thead>\n    <tr style=\"text-align: right;\">\n      <th></th>\n      <th>Year</th>\n      <th>HOUR-PST</th>\n      <th>Avg Global Horizontal [W/m^2]</th>\n    </tr>\n  </thead>\n  <tbody>\n    <tr>\n      <th>0</th>\n      <td>2016</td>\n      <td>0</td>\n      <td>0.1291</td>\n    </tr>\n    <tr>\n      <th>1</th>\n      <td>2016</td>\n      <td>1</td>\n      <td>0.1592</td>\n    </tr>\n  </tbody>\n</table>\n</div>"
     },
     "execution_count": 2,
     "metadata": {},
     "output_type": "execute_result"
    }
   ],
   "source": [
    "# This dataset (and rate consumption) starts at hour 1, ...\n",
    "solar_irradiance = pd.read_csv(\"../data/SolarIrradiance.csv\")[[\"Year\", \"HOUR-PST\", \"Avg Global Horizontal [W/m^2]\"]]\n",
    "solar_irradiance.head(2)"
   ]
  },
  {
   "cell_type": "code",
   "execution_count": 3,
   "metadata": {
    "ExecuteTime": {
     "end_time": "2023-10-10T12:35:53.707604Z",
     "start_time": "2023-10-10T12:35:53.696268300Z"
    }
   },
   "outputs": [
    {
     "data": {
      "text/plain": "    Year  HOUR-PST  Avg Global Horizontal [W/m^2]\n22  2016        22                         0.0680\n23  2016        23                         0.0742\n24  2016         0                         0.0417",
      "text/html": "<div>\n<style scoped>\n    .dataframe tbody tr th:only-of-type {\n        vertical-align: middle;\n    }\n\n    .dataframe tbody tr th {\n        vertical-align: top;\n    }\n\n    .dataframe thead th {\n        text-align: right;\n    }\n</style>\n<table border=\"1\" class=\"dataframe\">\n  <thead>\n    <tr style=\"text-align: right;\">\n      <th></th>\n      <th>Year</th>\n      <th>HOUR-PST</th>\n      <th>Avg Global Horizontal [W/m^2]</th>\n    </tr>\n  </thead>\n  <tbody>\n    <tr>\n      <th>22</th>\n      <td>2016</td>\n      <td>22</td>\n      <td>0.0680</td>\n    </tr>\n    <tr>\n      <th>23</th>\n      <td>2016</td>\n      <td>23</td>\n      <td>0.0742</td>\n    </tr>\n    <tr>\n      <th>24</th>\n      <td>2016</td>\n      <td>0</td>\n      <td>0.0417</td>\n    </tr>\n  </tbody>\n</table>\n</div>"
     },
     "execution_count": 3,
     "metadata": {},
     "output_type": "execute_result"
    }
   ],
   "source": [
    "# ... but has hour 0 somewhere appearing in the middle of it\n",
    "solar_irradiance.iloc[22:25]"
   ]
  },
  {
   "cell_type": "code",
   "execution_count": 4,
   "metadata": {
    "ExecuteTime": {
     "end_time": "2023-10-10T12:35:53.851606200Z",
     "start_time": "2023-10-10T12:35:53.711641800Z"
    }
   },
   "outputs": [
    {
     "data": {
      "text/plain": "     Year  Hour  Wind Speed  \n0  2016.0   0.0        43.128\n1  2016.0   1.0        45.900",
      "text/html": "<div>\n<style scoped>\n    .dataframe tbody tr th:only-of-type {\n        vertical-align: middle;\n    }\n\n    .dataframe tbody tr th {\n        vertical-align: top;\n    }\n\n    .dataframe thead th {\n        text-align: right;\n    }\n</style>\n<table border=\"1\" class=\"dataframe\">\n  <thead>\n    <tr style=\"text-align: right;\">\n      <th></th>\n      <th>Year</th>\n      <th>Hour</th>\n      <th>Wind Speed</th>\n    </tr>\n  </thead>\n  <tbody>\n    <tr>\n      <th>0</th>\n      <td>2016.0</td>\n      <td>0.0</td>\n      <td>43.128</td>\n    </tr>\n    <tr>\n      <th>1</th>\n      <td>2016.0</td>\n      <td>1.0</td>\n      <td>45.900</td>\n    </tr>\n  </tbody>\n</table>\n</div>"
     },
     "execution_count": 4,
     "metadata": {},
     "output_type": "execute_result"
    }
   ],
   "source": [
    "# However, this dataset (and load data) start at hour 0, and ...\n",
    "wind_speed = pd.read_csv(\"../data/WindSpeed.csv\")[[\"Year\",\"Hour\",\"Wind Speed  \"]]\n",
    "wind_speed[\"Wind Speed  \"] = wind_speed[\"Wind Speed  \"].apply(lambda mps: 3.6 * mps) # convert m/s to km/h, like in the given loading code\n",
    "wind_speed.head(2)"
   ]
  },
  {
   "cell_type": "code",
   "execution_count": 5,
   "metadata": {
    "ExecuteTime": {
     "end_time": "2023-10-10T12:35:53.892655500Z",
     "start_time": "2023-10-10T12:35:53.761772800Z"
    }
   },
   "outputs": [
    {
     "data": {
      "text/plain": "      Year  Hour  Wind Speed  \n23  2016.0  23.0        23.904\n24  2016.0   0.0        18.432\n25  2016.0   1.0        14.040",
      "text/html": "<div>\n<style scoped>\n    .dataframe tbody tr th:only-of-type {\n        vertical-align: middle;\n    }\n\n    .dataframe tbody tr th {\n        vertical-align: top;\n    }\n\n    .dataframe thead th {\n        text-align: right;\n    }\n</style>\n<table border=\"1\" class=\"dataframe\">\n  <thead>\n    <tr style=\"text-align: right;\">\n      <th></th>\n      <th>Year</th>\n      <th>Hour</th>\n      <th>Wind Speed</th>\n    </tr>\n  </thead>\n  <tbody>\n    <tr>\n      <th>23</th>\n      <td>2016.0</td>\n      <td>23.0</td>\n      <td>23.904</td>\n    </tr>\n    <tr>\n      <th>24</th>\n      <td>2016.0</td>\n      <td>0.0</td>\n      <td>18.432</td>\n    </tr>\n    <tr>\n      <th>25</th>\n      <td>2016.0</td>\n      <td>1.0</td>\n      <td>14.040</td>\n    </tr>\n  </tbody>\n</table>\n</div>"
     },
     "execution_count": 5,
     "metadata": {},
     "output_type": "execute_result"
    }
   ],
   "source": [
    "# also contain an hour 0 for following days.\n",
    "wind_speed.iloc[23:26]"
   ]
  },
  {
   "cell_type": "markdown",
   "metadata": {},
   "source": [
    "Therefore, we skip the first line in all datasets other than the solar irradiance datasets."
   ]
  },
  {
   "cell_type": "code",
   "execution_count": 6,
   "metadata": {
    "ExecuteTime": {
     "end_time": "2023-10-10T12:35:53.892655500Z",
     "start_time": "2023-10-10T12:35:53.782939600Z"
    }
   },
   "outputs": [
    {
     "data": {
      "text/plain": "   Year  HOUR-PST  Grid Electricity Price\n0  2016         0                    0.06\n1  2016         1                    0.06\n2  2016         2                    0.06\n3  2016         3                    0.06\n4  2016         4                    0.06",
      "text/html": "<div>\n<style scoped>\n    .dataframe tbody tr th:only-of-type {\n        vertical-align: middle;\n    }\n\n    .dataframe tbody tr th {\n        vertical-align: top;\n    }\n\n    .dataframe thead th {\n        text-align: right;\n    }\n</style>\n<table border=\"1\" class=\"dataframe\">\n  <thead>\n    <tr style=\"text-align: right;\">\n      <th></th>\n      <th>Year</th>\n      <th>HOUR-PST</th>\n      <th>Grid Electricity Price</th>\n    </tr>\n  </thead>\n  <tbody>\n    <tr>\n      <th>0</th>\n      <td>2016</td>\n      <td>0</td>\n      <td>0.06</td>\n    </tr>\n    <tr>\n      <th>1</th>\n      <td>2016</td>\n      <td>1</td>\n      <td>0.06</td>\n    </tr>\n    <tr>\n      <th>2</th>\n      <td>2016</td>\n      <td>2</td>\n      <td>0.06</td>\n    </tr>\n    <tr>\n      <th>3</th>\n      <td>2016</td>\n      <td>3</td>\n      <td>0.06</td>\n    </tr>\n    <tr>\n      <th>4</th>\n      <td>2016</td>\n      <td>4</td>\n      <td>0.06</td>\n    </tr>\n  </tbody>\n</table>\n</div>"
     },
     "execution_count": 6,
     "metadata": {},
     "output_type": "execute_result"
    }
   ],
   "source": [
    "rate_cons = pd.read_csv(\"../data/rate_consumption_charge.csv\")[['Year', 'HOUR-PST', 'Grid Elecricity Price（$/kWh）',]]\n",
    "rate_cons = rate_cons.rename(columns={'Grid Elecricity Price（$/kWh）': \"Grid Electricity Price\"})\n",
    "rate_cons.head(5)"
   ]
  },
  {
   "cell_type": "code",
   "execution_count": 7,
   "metadata": {
    "ExecuteTime": {
     "end_time": "2023-10-10T12:35:54.035699Z",
     "start_time": "2023-10-10T12:35:53.812921900Z"
    }
   },
   "outputs": [],
   "source": [
    "import os\n",
    "\n",
    "path = r\"../data/residential_load_data_base\"\n",
    "households = {}\n",
    "count = 0\n",
    "\n",
    "for file in os.listdir(path):\n",
    "    file_path = os.path.join(path, file)\n",
    "    households[count] = pd.read_csv(file_path)[['Date/Time', 'Electricity:Facility [kW](Hourly)']]\n",
    "    count += 1\n"
   ]
  },
  {
   "cell_type": "code",
   "execution_count": 8,
   "metadata": {
    "ExecuteTime": {
     "end_time": "2023-10-10T12:35:54.099217500Z",
     "start_time": "2023-10-10T12:35:53.923764100Z"
    }
   },
   "outputs": [
    {
     "data": {
      "text/plain": "          Date/Time  Electricity:Facility [kW](Hourly)\n0   01/01  01:00:00                           0.793771\n1   01/01  02:00:00                           0.635087\n2   01/01  03:00:00                           0.579323",
      "text/html": "<div>\n<style scoped>\n    .dataframe tbody tr th:only-of-type {\n        vertical-align: middle;\n    }\n\n    .dataframe tbody tr th {\n        vertical-align: top;\n    }\n\n    .dataframe thead th {\n        text-align: right;\n    }\n</style>\n<table border=\"1\" class=\"dataframe\">\n  <thead>\n    <tr style=\"text-align: right;\">\n      <th></th>\n      <th>Date/Time</th>\n      <th>Electricity:Facility [kW](Hourly)</th>\n    </tr>\n  </thead>\n  <tbody>\n    <tr>\n      <th>0</th>\n      <td>01/01  01:00:00</td>\n      <td>0.793771</td>\n    </tr>\n    <tr>\n      <th>1</th>\n      <td>01/01  02:00:00</td>\n      <td>0.635087</td>\n    </tr>\n    <tr>\n      <th>2</th>\n      <td>01/01  03:00:00</td>\n      <td>0.579323</td>\n    </tr>\n  </tbody>\n</table>\n</div>"
     },
     "execution_count": 8,
     "metadata": {},
     "output_type": "execute_result"
    }
   ],
   "source": [
    "households[0].head(3)"
   ]
  },
  {
   "cell_type": "code",
   "execution_count": 9,
   "metadata": {
    "ExecuteTime": {
     "end_time": "2023-10-10T12:35:54.099217500Z",
     "start_time": "2023-10-10T12:35:53.934753Z"
    }
   },
   "outputs": [
    {
     "data": {
      "text/plain": "          Date/Time  Electricity:Facility [kW](Hourly)\n0   01/01  01:00:00                           1.001662\n1   01/01  02:00:00                           0.823123\n2   01/01  03:00:00                           0.763152",
      "text/html": "<div>\n<style scoped>\n    .dataframe tbody tr th:only-of-type {\n        vertical-align: middle;\n    }\n\n    .dataframe tbody tr th {\n        vertical-align: top;\n    }\n\n    .dataframe thead th {\n        text-align: right;\n    }\n</style>\n<table border=\"1\" class=\"dataframe\">\n  <thead>\n    <tr style=\"text-align: right;\">\n      <th></th>\n      <th>Date/Time</th>\n      <th>Electricity:Facility [kW](Hourly)</th>\n    </tr>\n  </thead>\n  <tbody>\n    <tr>\n      <th>0</th>\n      <td>01/01  01:00:00</td>\n      <td>1.001662</td>\n    </tr>\n    <tr>\n      <th>1</th>\n      <td>01/01  02:00:00</td>\n      <td>0.823123</td>\n    </tr>\n    <tr>\n      <th>2</th>\n      <td>01/01  03:00:00</td>\n      <td>0.763152</td>\n    </tr>\n  </tbody>\n</table>\n</div>"
     },
     "execution_count": 9,
     "metadata": {},
     "output_type": "execute_result"
    }
   ],
   "source": [
    "households[1].head(3)"
   ]
  },
  {
   "cell_type": "code",
   "execution_count": 10,
   "metadata": {
    "ExecuteTime": {
     "end_time": "2023-10-10T12:35:54.099217500Z",
     "start_time": "2023-10-10T12:35:53.941462Z"
    }
   },
   "outputs": [],
   "source": [
    "# skip the first hour in every dataset except solar_irradiance such that they fit each other and the beginnings are synced\n",
    "wind_speed = wind_speed.iloc[1:].reset_index(drop=True)\n",
    "households = {name: household.iloc[1:].reset_index(drop=True) for name, household in households.items()}"
   ]
  },
  {
   "cell_type": "markdown",
   "metadata": {},
   "source": [
    "\n",
    "### 2. Cap data\n",
    "\n",
    "Furthermore, the different datasets are of different lengths. Therefore, we pick the length of the shortest dataset to have features of equal lengths.\n",
    "\n",
    "Note that there is only data for half a year available for most datasets, whereas for the load data we have a full year available."
   ]
  },
  {
   "cell_type": "code",
   "execution_count": 11,
   "metadata": {
    "ExecuteTime": {
     "end_time": "2023-10-10T12:35:54.116656100Z",
     "start_time": "2023-10-10T12:35:53.949760200Z"
    }
   },
   "outputs": [
    {
     "data": {
      "text/plain": "   Year  HOUR-PST  Grid Electricity Price\n0  2016         0                    0.06\n1  2016         1                    0.06\n2  2016         2                    0.06\n3  2016         3                    0.06\n4  2016         4                    0.06",
      "text/html": "<div>\n<style scoped>\n    .dataframe tbody tr th:only-of-type {\n        vertical-align: middle;\n    }\n\n    .dataframe tbody tr th {\n        vertical-align: top;\n    }\n\n    .dataframe thead th {\n        text-align: right;\n    }\n</style>\n<table border=\"1\" class=\"dataframe\">\n  <thead>\n    <tr style=\"text-align: right;\">\n      <th></th>\n      <th>Year</th>\n      <th>HOUR-PST</th>\n      <th>Grid Electricity Price</th>\n    </tr>\n  </thead>\n  <tbody>\n    <tr>\n      <th>0</th>\n      <td>2016</td>\n      <td>0</td>\n      <td>0.06</td>\n    </tr>\n    <tr>\n      <th>1</th>\n      <td>2016</td>\n      <td>1</td>\n      <td>0.06</td>\n    </tr>\n    <tr>\n      <th>2</th>\n      <td>2016</td>\n      <td>2</td>\n      <td>0.06</td>\n    </tr>\n    <tr>\n      <th>3</th>\n      <td>2016</td>\n      <td>3</td>\n      <td>0.06</td>\n    </tr>\n    <tr>\n      <th>4</th>\n      <td>2016</td>\n      <td>4</td>\n      <td>0.06</td>\n    </tr>\n  </tbody>\n</table>\n</div>"
     },
     "execution_count": 11,
     "metadata": {},
     "output_type": "execute_result"
    }
   ],
   "source": [
    "rate_cons.head(5)"
   ]
  },
  {
   "cell_type": "code",
   "execution_count": 12,
   "metadata": {
    "ExecuteTime": {
     "end_time": "2023-10-10T12:35:54.116656100Z",
     "start_time": "2023-10-10T12:35:53.957961600Z"
    }
   },
   "outputs": [
    {
     "data": {
      "text/plain": "(8641, 8640, 8640, 8759, 8759)"
     },
     "execution_count": 12,
     "metadata": {},
     "output_type": "execute_result"
    }
   ],
   "source": [
    "dataset_lengths = (len(wind_speed), len(solar_irradiance), len(rate_cons), *[len(households[name]) for name in households])\n",
    "dataset_lengths"
   ]
  },
  {
   "cell_type": "code",
   "execution_count": 13,
   "metadata": {
    "ExecuteTime": {
     "end_time": "2023-10-10T12:35:54.116656100Z",
     "start_time": "2023-10-10T12:35:53.972119300Z"
    }
   },
   "outputs": [
    {
     "data": {
      "text/plain": "8640"
     },
     "execution_count": 13,
     "metadata": {},
     "output_type": "execute_result"
    }
   ],
   "source": [
    "min_length = min(dataset_lengths); min_length"
   ]
  },
  {
   "cell_type": "code",
   "execution_count": 14,
   "metadata": {
    "ExecuteTime": {
     "end_time": "2023-10-10T12:35:54.134643100Z",
     "start_time": "2023-10-10T12:35:53.984550100Z"
    }
   },
   "outputs": [],
   "source": [
    "wind_speed = wind_speed.iloc[:min_length]\n",
    "solar_irradiance = solar_irradiance.iloc[:min_length]\n",
    "rate_cons = rate_cons.iloc[:min_length]\n",
    "households = {name: household.iloc[:min_length] for name, household in households.items()}"
   ]
  },
  {
   "cell_type": "code",
   "execution_count": 15,
   "metadata": {
    "ExecuteTime": {
     "end_time": "2023-10-10T12:35:54.134643100Z",
     "start_time": "2023-10-10T12:35:53.992797100Z"
    }
   },
   "outputs": [
    {
     "data": {
      "text/plain": "(8640, 8640, 8640, 8640, 8640)"
     },
     "execution_count": 15,
     "metadata": {},
     "output_type": "execute_result"
    }
   ],
   "source": [
    "len(wind_speed), len(solar_irradiance), len(rate_cons), *[len(household) for household in households.values()]"
   ]
  },
  {
   "cell_type": "markdown",
   "metadata": {},
   "source": [
    "### Export"
   ]
  },
  {
   "cell_type": "code",
   "execution_count": 16,
   "metadata": {
    "ExecuteTime": {
     "end_time": "2023-10-10T12:35:54.153155600Z",
     "start_time": "2023-10-10T12:35:54.001545500Z"
    }
   },
   "outputs": [
    {
     "data": {
      "text/plain": "      Wind Speed  Solar Irradiance  Grid Electricity Price         0         1\n0         45.900            0.1291                    0.06  0.635087  0.823123\n1         46.872            0.1592                    0.06  0.579323  0.763152\n2         47.340            0.0850                    0.06  0.569831  0.757195\n3         40.608            0.0000                    0.06  0.604316  0.805053\n4         42.732            0.0000                    0.06  0.817850  1.068934\n...          ...               ...                     ...       ...       ...\n8635      16.920            0.1145                    0.09  2.339000  2.501663\n8636      15.840            0.0155                    0.09  2.090589  2.277813\n8637      17.064            0.1539                    0.09  1.654266  1.867344\n8638      11.808            0.0348                    0.06  1.223062  1.471720\n8639         NaN            0.0681                    0.06  0.777533  1.056600\n\n[8640 rows x 5 columns]",
      "text/html": "<div>\n<style scoped>\n    .dataframe tbody tr th:only-of-type {\n        vertical-align: middle;\n    }\n\n    .dataframe tbody tr th {\n        vertical-align: top;\n    }\n\n    .dataframe thead th {\n        text-align: right;\n    }\n</style>\n<table border=\"1\" class=\"dataframe\">\n  <thead>\n    <tr style=\"text-align: right;\">\n      <th></th>\n      <th>Wind Speed</th>\n      <th>Solar Irradiance</th>\n      <th>Grid Electricity Price</th>\n      <th>0</th>\n      <th>1</th>\n    </tr>\n  </thead>\n  <tbody>\n    <tr>\n      <th>0</th>\n      <td>45.900</td>\n      <td>0.1291</td>\n      <td>0.06</td>\n      <td>0.635087</td>\n      <td>0.823123</td>\n    </tr>\n    <tr>\n      <th>1</th>\n      <td>46.872</td>\n      <td>0.1592</td>\n      <td>0.06</td>\n      <td>0.579323</td>\n      <td>0.763152</td>\n    </tr>\n    <tr>\n      <th>2</th>\n      <td>47.340</td>\n      <td>0.0850</td>\n      <td>0.06</td>\n      <td>0.569831</td>\n      <td>0.757195</td>\n    </tr>\n    <tr>\n      <th>3</th>\n      <td>40.608</td>\n      <td>0.0000</td>\n      <td>0.06</td>\n      <td>0.604316</td>\n      <td>0.805053</td>\n    </tr>\n    <tr>\n      <th>4</th>\n      <td>42.732</td>\n      <td>0.0000</td>\n      <td>0.06</td>\n      <td>0.817850</td>\n      <td>1.068934</td>\n    </tr>\n    <tr>\n      <th>...</th>\n      <td>...</td>\n      <td>...</td>\n      <td>...</td>\n      <td>...</td>\n      <td>...</td>\n    </tr>\n    <tr>\n      <th>8635</th>\n      <td>16.920</td>\n      <td>0.1145</td>\n      <td>0.09</td>\n      <td>2.339000</td>\n      <td>2.501663</td>\n    </tr>\n    <tr>\n      <th>8636</th>\n      <td>15.840</td>\n      <td>0.0155</td>\n      <td>0.09</td>\n      <td>2.090589</td>\n      <td>2.277813</td>\n    </tr>\n    <tr>\n      <th>8637</th>\n      <td>17.064</td>\n      <td>0.1539</td>\n      <td>0.09</td>\n      <td>1.654266</td>\n      <td>1.867344</td>\n    </tr>\n    <tr>\n      <th>8638</th>\n      <td>11.808</td>\n      <td>0.0348</td>\n      <td>0.06</td>\n      <td>1.223062</td>\n      <td>1.471720</td>\n    </tr>\n    <tr>\n      <th>8639</th>\n      <td>NaN</td>\n      <td>0.0681</td>\n      <td>0.06</td>\n      <td>0.777533</td>\n      <td>1.056600</td>\n    </tr>\n  </tbody>\n</table>\n<p>8640 rows × 5 columns</p>\n</div>"
     },
     "execution_count": 16,
     "metadata": {},
     "output_type": "execute_result"
    }
   ],
   "source": [
    "df = pd.DataFrame({\n",
    "  \"Wind Speed\": wind_speed[\"Wind Speed  \"],\n",
    "  \"Solar Irradiance\": solar_irradiance[\"Avg Global Horizontal [W/m^2]\"],\n",
    "  \"Grid Electricity Price\": rate_cons[\"Grid Electricity Price\"],\n",
    "  **{name: household[\"Electricity:Facility [kW](Hourly)\"] for name, household in households.items()},\n",
    "});\n",
    "df"
   ]
  },
  {
   "cell_type": "code",
   "execution_count": 17,
   "metadata": {
    "ExecuteTime": {
     "end_time": "2023-10-10T12:35:54.279060500Z",
     "start_time": "2023-10-10T12:35:54.020054800Z"
    }
   },
   "outputs": [],
   "source": [
    "df.drop(df.tail(1).index,\n",
    "        inplace = True)\n",
    "df.to_csv(\"../data/cropped.csv\", index=False)"
   ]
  },
  {
   "cell_type": "code",
   "execution_count": 17,
   "metadata": {
    "ExecuteTime": {
     "end_time": "2023-10-10T12:35:54.279060500Z",
     "start_time": "2023-10-10T12:35:54.074358800Z"
    }
   },
   "outputs": [],
   "source": []
  }
 ],
 "metadata": {
  "kernelspec": {
   "display_name": "ai4ei",
   "language": "python",
   "name": "python3"
  },
  "language_info": {
   "codemirror_mode": {
    "name": "ipython",
    "version": 3
   },
   "file_extension": ".py",
   "mimetype": "text/x-python",
   "name": "python",
   "nbconvert_exporter": "python",
   "pygments_lexer": "ipython3",
   "version": "3.11.5"
  },
  "orig_nbformat": 4
 },
 "nbformat": 4,
 "nbformat_minor": 2
}
